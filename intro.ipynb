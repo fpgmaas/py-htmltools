{
    "cells": [
        {
            "cell_type": "markdown",
            "source": [
                "## Python version of htmltools"
            ],
            "metadata": {}
        },
        {
            "cell_type": "code",
            "execution_count": 17,
            "source": [
                "%reload_ext autoreload\n",
                "%autoreload 2"
            ],
            "outputs": [],
            "metadata": {}
        },
        {
            "cell_type": "code",
            "execution_count": 18,
            "source": [
                "from htmltools import *\n",
                "\n",
                "# keyword args must come after positional args!\n",
                "x = div(\n",
                "  h3(\"Hello htmltools!\"),\n",
                "  children = [\"foo\", div(\"bar\"), [span(\"baz\")]],\n",
                "  id = \"foo\",\n",
                "  # class is a keyword, so we support the JSX className\n",
                "  className = \"bar\",\n",
                "  htmlFor = \"foo\",\n",
                "  # Any '_' is translated to '-'\n",
                "  data_foo = \"bar\"\n",
                ")\n",
                "x"
            ],
            "outputs": [
                {
                    "output_type": "execute_result",
                    "data": {
                        "text/plain": [
                            "<tag div 1 attributes 4 children>"
                        ]
                    },
                    "metadata": {},
                    "execution_count": 18
                }
            ],
            "metadata": {}
        },
        {
            "cell_type": "code",
            "execution_count": 19,
            "source": [
                "print(x)"
            ],
            "outputs": [
                {
                    "output_type": "stream",
                    "name": "stdout",
                    "text": [
                        "<div id=\"foo\" class=\"bar\" for=\"foo\" data-foo=\"bar\">\n",
                        " <h3>Hello htmltools!</h3>\n",
                        " foo\n",
                        " <div>bar</div>\n",
                        "  <span>baz</span>\n",
                        "</div>\n"
                    ]
                }
            ],
            "metadata": {}
        },
        {
            "cell_type": "code",
            "execution_count": 20,
            "source": [
                "x.show()"
            ],
            "outputs": [
                {
                    "output_type": "display_data",
                    "data": {
                        "text/plain": [
                            "<IPython.core.display.HTML object>"
                        ],
                        "text/html": [
                            "<div id=\"foo\" class=\"bar\" for=\"foo\" data-foo=\"bar\">\n",
                            " <h3>Hello htmltools!</h3>\n",
                            " foo\n",
                            " <div>bar</div>\n",
                            "  <span>baz</span>\n",
                            "</div>"
                        ]
                    },
                    "metadata": {}
                }
            ],
            "metadata": {}
        },
        {
            "cell_type": "code",
            "execution_count": 21,
            "source": [
                "# Similar to R, common tags (e.g., div(), span()) are 'exported' at the\n",
                "# top-level of the module, but tags contains all the tags\n",
                "logo = tags.img(\n",
                "  height = \"70px\",\n",
                "  src = \"https://www.rstudio.com/wp-content/uploads/2018/10/RStudio-Logo-Flat.png\"\n",
                ")\n",
                "logo.show()"
            ],
            "outputs": [
                {
                    "output_type": "display_data",
                    "data": {
                        "text/plain": [
                            "<IPython.core.display.HTML object>"
                        ],
                        "text/html": [
                            "<img height=\"70px\" src=\"https://www.rstudio.com/wp-content/uploads/2018/10/RStudio-Logo-Flat.png\" />"
                        ]
                    },
                    "metadata": {}
                }
            ],
            "metadata": {}
        },
        {
            "cell_type": "code",
            "execution_count": 22,
            "source": [
                "# Also tag_list() for a list of tags \n",
                "print(tag_list(a(), div()))"
            ],
            "outputs": [
                {
                    "output_type": "stream",
                    "name": "stdout",
                    "text": [
                        " <a></a>\n",
                        " <div></div>\n"
                    ]
                }
            ],
            "metadata": {}
        },
        {
            "cell_type": "code",
            "execution_count": 23,
            "source": [
                "dep = html_dependency(\n",
                "    name = \"bootstrap\",\n",
                "    version = \"3.3.5\",\n",
                "    package = \"prism\",\n",
                "    src = \"www/bootstrap\",\n",
                "    script = \"js/bootstrap.min.js\",\n",
                "    stylesheet = \"css/bootstrap.min.css\"\n",
                ")\n",
                "\n",
                "print(dep)"
            ],
            "outputs": [
                {
                    "output_type": "stream",
                    "name": "stdout",
                    "text": [
                        " <link href=\"css/bootstrap.min.css\" rel=\"stylesheet\" />\n",
                        " <script src=\"js/bootstrap.min.js\"></script>\n"
                    ]
                }
            ],
            "metadata": {}
        },
        {
            "cell_type": "code",
            "execution_count": 24,
            "source": [
                "x.attach_dependency(dep)\n",
                "x.render()\n"
            ],
            "outputs": [
                {
                    "output_type": "execute_result",
                    "data": {
                        "text/plain": [
                            "{'html': '<div id=\"foo\" class=\"bar\" for=\"foo\" data-foo=\"bar\">\\n <h3>Hello htmltools!</h3>\\n foo\\n <div>bar</div>\\n  <span>baz</span>\\n</div>',\n",
                            " 'dependencies': [<html_dependency \"bootstrap@3.3.5\">]}"
                        ]
                    },
                    "metadata": {},
                    "execution_count": 24
                }
            ],
            "metadata": {}
        },
        {
            "cell_type": "code",
            "execution_count": 25,
            "source": [
                "tags.title()"
            ],
            "outputs": [
                {
                    "output_type": "execute_result",
                    "data": {
                        "text/plain": [
                            "<tag title 0 attributes 0 children>"
                        ]
                    },
                    "metadata": {},
                    "execution_count": 25
                }
            ],
            "metadata": {}
        },
        {
            "cell_type": "markdown",
            "source": [
                "## TODO:"
            ],
            "metadata": {}
        },
        {
            "cell_type": "code",
            "execution_count": null,
            "source": [
                "# Only allow scalar values for children?\n",
                "print(div(\"1\", [\"2\", 3], children = [\"a\", \"b\", div(children = [\"c\", \"d\"])]))"
            ],
            "outputs": [
                {
                    "output_type": "stream",
                    "name": "stdout",
                    "text": [
                        "<div>\n",
                        " 1\n",
                        "  2\n",
                        " 3\n",
                        " a\n",
                        " b\n",
                        " <div>\n",
                        " c\n",
                        " d\n",
                        "</div>\n",
                        "</div>\n"
                    ]
                }
            ],
            "metadata": {}
        },
        {
            "cell_type": "code",
            "execution_count": null,
            "source": [
                "#from prism import input, output, page\n",
                "#ui = page.fluid(\n",
                "#    output.text(\"txt\"),\n",
                "#    input.slider(\"n\", \"Choose n\", 0, 100, 50),\n",
                "#    title = \"Prism demo\"\n",
                "#)\n",
                "#print(ui)"
            ],
            "outputs": [],
            "metadata": {}
        }
    ],
    "metadata": {
        "orig_nbformat": 4,
        "language_info": {
            "name": "python",
            "version": "3.8.8",
            "mimetype": "text/x-python",
            "codemirror_mode": {
                "name": "ipython",
                "version": 3
            },
            "pygments_lexer": "ipython3",
            "nbconvert_exporter": "python",
            "file_extension": ".py"
        },
        "kernelspec": {
            "name": "python3",
            "display_name": "Python 3.8.8 64-bit ('base': conda)"
        },
        "interpreter": {
            "hash": "0ff4c9592a8da58b92bd66c28f5a281334fc48c65cc9d36de42032de70ba6f1e"
        }
    },
    "nbformat": 4,
    "nbformat_minor": 2
}