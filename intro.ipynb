{
    "cells": [
        {
            "cell_type": "markdown",
            "source": [
                "## Intro to py-htmltools"
            ],
            "metadata": {}
        },
        {
            "cell_type": "code",
            "execution_count": 1,
            "source": [
                "%reload_ext autoreload\n",
                "%autoreload 2\n",
                "from htmltools import *"
            ],
            "outputs": [],
            "metadata": {}
        },
        {
            "cell_type": "markdown",
            "source": [
                "Common HTML tags (e.g., `div()`) are exported at the top-level, but _any_ HTML/SVG tag may be accessed via `tags` (a dictionary of classes)"
            ],
            "metadata": {}
        },
        {
            "cell_type": "code",
            "execution_count": 2,
            "source": [
                "x = div(\n",
                "  tags.i(\"Hello htmltools!\")\n",
                ")\n",
                "print(x)\n"
            ],
            "outputs": [
                {
                    "output_type": "stream",
                    "name": "stdout",
                    "text": [
                        "<div>\n",
                        "  <i>Hello htmltools!</i>\n",
                        "</div>\n"
                    ]
                }
            ],
            "metadata": {}
        },
        {
            "cell_type": "markdown",
            "source": [
                "Children of a tag may be provided as positional arguments (as above) _or_ via the `children` keyword (as below). The `children` keyword is useful when you want attributes to appear _before_ children (In Python, keyword arguments can't appear before positional ones, but that's usually desirable for writing HTML).\n",
                "\n",
                "Attributes also have a couple special rules:\n",
                "\n",
                "1. Use `className` and `htmlFor` to create `class` and `for` (both are reserved names in Python).\n",
                "2. Any `_` appearing in the attribute name is written as `-` (e.g, `data_foo` -> `data-foo`)"
            ],
            "metadata": {}
        },
        {
            "cell_type": "code",
            "execution_count": null,
            "source": [],
            "outputs": [],
            "metadata": {}
        },
        {
            "cell_type": "code",
            "execution_count": 3,
            "source": [
                "# Winston: leans towards no children keyword\n",
                "x = div(\n",
                "  id = \"foo\", className = \"bar\", htmlFor = \"baz\", data_foo = \"bar\",\n",
                "  children = [\n",
                "    h3(\"Hello htmltools!\"),\n",
                "    p(html(f\"The {tags.i('Python')} version\"))\n",
                "  ]\n",
                ")\n",
                "print(x)"
            ],
            "outputs": [
                {
                    "output_type": "stream",
                    "name": "stdout",
                    "text": [
                        "<div id=\"foo\" class=\"bar\" for=\"baz\" data-foo=\"bar\">\n",
                        "  <h3>Hello htmltools!</h3>\n",
                        "  <p>The <i>Python</i> version</p>\n",
                        "</div>\n"
                    ]
                }
            ],
            "metadata": {}
        },
        {
            "cell_type": "markdown",
            "source": [
                "A more succinct way to provide children after attributes is to provide them in a call the instance:"
            ],
            "metadata": {}
        },
        {
            "cell_type": "code",
            "execution_count": 4,
            "source": [
                "x = div(id = \"foo\")(\n",
                "  h3(\"Hello htmltools!\"),\n",
                "  p(html(f\"The {tags.i('Python')} version\"))\n",
                ")\n",
                "print(x)"
            ],
            "outputs": [
                {
                    "output_type": "stream",
                    "name": "stdout",
                    "text": [
                        "<div id=\"foo\">\n",
                        "  <h3>Hello htmltools!</h3>\n",
                        "  <p>The <i>Python</i> version</p>\n",
                        "</div>\n"
                    ]
                }
            ],
            "metadata": {}
        },
        {
            "cell_type": "markdown",
            "source": [
                "Note also that `html()` can be used to mark strings as HTML, preventing the usual HTML escaping that occurs when passing string(s) as children to a `tag`. Note that you can also use `html()` to prevent escaping on attributes, which can be especially useful when creating your own custom elements:"
            ],
            "metadata": {}
        },
        {
            "cell_type": "code",
            "execution_count": 5,
            "source": [
                "#x = tag(\"HelloJSX\", id = \"foo\", prop = jsx(\"{<div></div>}\"))\n",
                "#JSX(x)\n",
                "#print(x)"
            ],
            "outputs": [],
            "metadata": {}
        },
        {
            "cell_type": "markdown",
            "source": [
                "Attributes and children may be added via methods on the `tag` instance. Also note that the 'human' readable representation of the object reports the number of attributes and children."
            ],
            "metadata": {}
        },
        {
            "cell_type": "code",
            "execution_count": 6,
            "source": [
                "x = div()\n",
                "x.append_attrs(id = \"foo\", className = \"bar\")\n",
                "x.append_children(\n",
                "  h3(\"Hello htmltools!\"),\n",
                "  p(html(f\"The {tags.i('Python')} version\"))\n",
                ")\n",
                "x"
            ],
            "outputs": [
                {
                    "output_type": "execute_result",
                    "data": {
                        "text/plain": [
                            "<div with 2 attributes & 2 children>"
                        ]
                    },
                    "metadata": {},
                    "execution_count": 6
                }
            ],
            "metadata": {}
        },
        {
            "cell_type": "markdown",
            "source": [
                "To actually render the HTML as HTML, use the `.show()` method"
            ],
            "metadata": {}
        },
        {
            "cell_type": "code",
            "execution_count": 7,
            "source": [
                "x.show()"
            ],
            "outputs": [
                {
                    "output_type": "display_data",
                    "data": {
                        "text/plain": [
                            "<IPython.core.display.HTML object>"
                        ],
                        "text/html": [
                            "<div id=\"foo\" class=\"bar\">\n",
                            "  <h3>Hello htmltools!</h3>\n",
                            "  <p>The <i>Python</i> version</p>\n",
                            "</div>"
                        ]
                    },
                    "metadata": {}
                }
            ],
            "metadata": {}
        },
        {
            "cell_type": "markdown",
            "source": [
                "Use `tag_list()` to create fragments of HTML. Since `tag_list()`s inherit from the `tag` class, you can use methods like `.append_children()` or `.show()`"
            ],
            "metadata": {}
        },
        {
            "cell_type": "code",
            "execution_count": 8,
            "source": [
                "x = tag_list()\n",
                "x.append_children(a(), div())\n",
                "print(x)"
            ],
            "outputs": [
                {
                    "output_type": "stream",
                    "name": "stdout",
                    "text": [
                        "<a></a>\n",
                        "<div></div>\n"
                    ]
                }
            ],
            "metadata": {}
        },
        {
            "cell_type": "markdown",
            "source": [
                "Any `tag` instance accepts `html_dependency()`s (for attaching JS/CSS dependencies that the tag depends upon)."
            ],
            "metadata": {}
        },
        {
            "cell_type": "code",
            "execution_count": 10,
            "source": [
                "dep = html_dependency(\n",
                "  name = \"bootstrap\",\n",
                "  version = \"3.3.5\",\n",
                "  package = \"shiny\",\n",
                "  src = \"www/bootstrap\",\n",
                "  script = \"js/bootstrap.min.js\",\n",
                "  stylesheet = \"css/bootstrap.min.css\"\n",
                ")\n",
                "\n",
                "x = div(dep)\n",
                "x.get_dependencies()"
            ],
            "outputs": [
                {
                    "output_type": "execute_result",
                    "data": {
                        "text/plain": [
                            "[<html_dependency \"bootstrap@3.3.5\">]"
                        ]
                    },
                    "metadata": {},
                    "execution_count": 10
                }
            ],
            "metadata": {}
        },
        {
            "cell_type": "markdown",
            "source": [
                "The `.render()` method on any `tag` instance will report both the HTML string it represents as well as `htmlDependency()`s it, or any of it's children, requires."
            ],
            "metadata": {}
        },
        {
            "cell_type": "code",
            "execution_count": 11,
            "source": [
                "x = tag_list(html(\"<a><a/>\"), dep)\n",
                "x.get_dependencies()"
            ],
            "outputs": [
                {
                    "output_type": "execute_result",
                    "data": {
                        "text/plain": [
                            "[<html_dependency \"bootstrap@3.3.5\">]"
                        ]
                    },
                    "metadata": {},
                    "execution_count": 11
                }
            ],
            "metadata": {}
        },
        {
            "cell_type": "code",
            "execution_count": null,
            "source": [],
            "outputs": [],
            "metadata": {}
        }
    ],
    "metadata": {
        "orig_nbformat": 4,
        "language_info": {
            "name": "python",
            "version": "3.8.8",
            "mimetype": "text/x-python",
            "codemirror_mode": {
                "name": "ipython",
                "version": 3
            },
            "pygments_lexer": "ipython3",
            "nbconvert_exporter": "python",
            "file_extension": ".py"
        },
        "kernelspec": {
            "name": "python3",
            "display_name": "Python 3.8.8 64-bit ('base': conda)"
        },
        "interpreter": {
            "hash": "0ff4c9592a8da58b92bd66c28f5a281334fc48c65cc9d36de42032de70ba6f1e"
        }
    },
    "nbformat": 4,
    "nbformat_minor": 2
}