{
 "cells": [
  {
   "cell_type": "markdown",
   "source": [
    "## Intro to py-htmltools"
   ],
   "metadata": {}
  },
  {
   "cell_type": "code",
   "execution_count": 12,
   "source": [
    "%reload_ext autoreload\n",
    "%autoreload 2\n",
    "from htmltools import *"
   ],
   "outputs": [],
   "metadata": {}
  },
  {
   "cell_type": "markdown",
   "source": [
    "Common HTML tags (e.g., `div()`) are exported at the top-level, but _any_ HTML/SVG tag may be accessed via `tags` (a dictionary of classes)"
   ],
   "metadata": {}
  },
  {
   "cell_type": "code",
   "execution_count": 13,
   "source": [
    "x = div(\n",
    "  tags.i(\"Hello htmltools!\")\n",
    ")\n",
    "print(x)\n"
   ],
   "outputs": [
    {
     "output_type": "stream",
     "name": "stdout",
     "text": [
      "<div>\n",
      "  <i>Hello htmltools!</i>\n",
      "</div>\n"
     ]
    }
   ],
   "metadata": {}
  },
  {
   "cell_type": "code",
   "execution_count": null,
   "source": [],
   "outputs": [],
   "metadata": {}
  },
  {
   "cell_type": "markdown",
   "source": [
    "Children of a tag may be provided as positional arguments (as above) _or_ via the `children` keyword (as below). The `children` keyword is useful when you want attributes to appear _before_ children (In Python, keyword arguments can't appear before positional ones, but that's usually desirable for writing HTML).\n",
    "\n",
    "To create attributes that clash with [reserved keywords](https://docs.python.org/3/reference/lexical_analysis.html#keywords) in Python (e.g. `class`, `for`, etc), put a `_` before and after the attribute name. Moreover, for attributes that contain `-` (e.g., `data-*`), use `_` (Python doesn't allow for `-` in keywords):"
   ],
   "metadata": {}
  },
  {
   "cell_type": "code",
   "execution_count": 14,
   "source": [
    "x = div(\n",
    "  id = \"foo\", _class_ = \"bar\", _for_ = \"baz\", data_foo = \"bar\",\n",
    "  children = [\n",
    "    h3(\"Hello htmltools!\"),\n",
    "    p(html(f\"The {tags.i('Python')} version\"))\n",
    "  ]\n",
    ")\n",
    "print(x)"
   ],
   "outputs": [
    {
     "output_type": "stream",
     "name": "stdout",
     "text": [
      "<div id=\"foo\" class=\"bar\" for=\"baz\" data-foo=\"bar\">\n",
      "  <h3>Hello htmltools!</h3>\n",
      "  <p>The <i>Python</i> version</p>\n",
      "</div>\n"
     ]
    }
   ],
   "metadata": {}
  },
  {
   "cell_type": "markdown",
   "source": [
    "A more succinct way to provide children after attributes is to provide them in a call the instance:"
   ],
   "metadata": {}
  },
  {
   "cell_type": "code",
   "execution_count": 15,
   "source": [
    "x = div(id = \"foo\")(\n",
    "  h3(\"Hello htmltools!\"),\n",
    "  p(html(f\"The {tags.i('Python')} version\"))\n",
    ")\n",
    "print(x)"
   ],
   "outputs": [
    {
     "output_type": "stream",
     "name": "stdout",
     "text": [
      "<div id=\"foo\">\n",
      "  <h3>Hello htmltools!</h3>\n",
      "  <p>The <i>Python</i> version</p>\n",
      "</div>\n"
     ]
    }
   ],
   "metadata": {}
  },
  {
   "cell_type": "markdown",
   "source": [
    "Note also that `html()` can be used to mark strings as HTML, preventing the usual HTML escaping that occurs when passing string(s) as children to a `tag`. Note that you can also use `html()` to prevent escaping on attributes, which can be especially useful when creating your own custom elements:"
   ],
   "metadata": {}
  },
  {
   "cell_type": "code",
   "execution_count": 16,
   "source": [
    "#x = tag(\"HelloJSX\", id = \"foo\", prop = jsx(\"{<div></div>}\"))\n",
    "#JSX(x)\n",
    "#print(x)"
   ],
   "outputs": [],
   "metadata": {}
  },
  {
   "cell_type": "markdown",
   "source": [
    "Attributes and children may be added via methods on the `tag` instance. Also note that the 'human' readable representation of the object reports the number of attributes and children."
   ],
   "metadata": {}
  },
  {
   "cell_type": "code",
   "execution_count": 17,
   "source": [
    "x = div()\n",
    "x.append(id = \"foo\", className = \"bar\")\n",
    "x.append(\n",
    "  h3(\"Hello htmltools!\"),\n",
    "  p(html(f\"The {tags.i('Python')} version\"))\n",
    ")\n",
    "x"
   ],
   "outputs": [
    {
     "output_type": "execute_result",
     "data": {
      "text/plain": [
       "<div#foo with 1 other attributes and 2 children>"
      ]
     },
     "metadata": {},
     "execution_count": 17
    }
   ],
   "metadata": {}
  },
  {
   "cell_type": "markdown",
   "source": [
    "To actually render the HTML as HTML, use the `.show()` method"
   ],
   "metadata": {}
  },
  {
   "cell_type": "code",
   "execution_count": 18,
   "source": [
    "from htmltools import *\n",
    "from shiny.page import *\n",
    "from shiny.input import *\n",
    "\n",
    "ui = fluid(\n",
    "    h1(\"Hello Shiny for Python!\"),\n",
    "    action_button(\"foo\", \"Hello!\"),\n",
    "    slider(\"bar\", \"Hello slider\", 0, 10, 1)\n",
    ")\n",
    "\n",
    "ui.show()\n"
   ],
   "outputs": [
    {
     "output_type": "display_data",
     "data": {
      "text/html": [
       "<html>\n",
       "  <head></head>\n",
       "  <body>\n",
       "        <div class=\"container-fluid\">\n",
       "      <h1>Hello Shiny for Python!</h1>\n",
       "      <button id=\"foo\" type=\"button\" class=\"btn btn-default action-button\">Hello!</button>\n",
       "      <div class=\"form-group shiny-input-container\">\n",
       "        <label class=\"control-label\" id=\"bar-label\" for=\"bar\">Hello slider</label>\n",
       "        <input className=\"js-range-slider\" id=\"bar\" data-skin=\"shiny\" data-min=\"0\" data-max=\"10\" data-from=\"1\" data-step=\"1\" data-grid=\"true\" data-grid-num=\"10.0\" data-grid-snap=\"false\" data-prettify-separator=\",\" data-prettify-enabled=\"true\" data-keyboard=\"true\" data-data-type=\"number\"/>\n",
       "      </div>\n",
       "    </div>\n",
       "  </body>\n",
       "</html>"
      ]
     },
     "metadata": {
      "text/html": {
       "text/html": {
        "isolated": true
       }
      }
     }
    }
   ],
   "metadata": {}
  },
  {
   "cell_type": "code",
   "execution_count": 19,
   "source": [
    "import IPython\n",
    "ip = IPython.get_ipython()\n"
   ],
   "outputs": [],
   "metadata": {}
  },
  {
   "cell_type": "code",
   "execution_count": 24,
   "source": [
    "os.path.abspath('')\n"
   ],
   "outputs": [
    {
     "output_type": "execute_result",
     "data": {
      "text/plain": [
       "'/Users/cpsievert/github/py-htmltools'"
      ]
     },
     "metadata": {},
     "execution_count": 24
    }
   ],
   "metadata": {}
  },
  {
   "cell_type": "markdown",
   "source": [
    "Use `tag_list()` to create fragments of HTML. Since `tag_list()`s inherit from the `tag` class, you can use methods like `.append()` or `.show()`"
   ],
   "metadata": {}
  },
  {
   "cell_type": "code",
   "execution_count": 8,
   "source": [
    "x = tag_list()\n",
    "x.append(a(), div())\n",
    "print(x)"
   ],
   "outputs": [
    {
     "output_type": "stream",
     "name": "stdout",
     "text": [
      "<a></a>\n",
      "<div></div>\n"
     ]
    }
   ],
   "metadata": {}
  },
  {
   "cell_type": "markdown",
   "source": [
    "Any `tag` instance accepts `html_dependency()`s (for attaching JS/CSS dependencies that the tag depends upon)."
   ],
   "metadata": {}
  },
  {
   "cell_type": "code",
   "execution_count": 9,
   "source": [
    "dep = html_dependency(\n",
    "  name = \"bootstrap\",\n",
    "  version = \"3.3.5\",\n",
    "  package = \"shiny\",\n",
    "  src = \"www/bootstrap\",\n",
    "  script = \"js/bootstrap.min.js\",\n",
    "  stylesheet = \"css/bootstrap.min.css\"\n",
    ")\n",
    "\n",
    "x = div(dep)\n",
    "x.get_dependencies()"
   ],
   "outputs": [
    {
     "output_type": "execute_result",
     "data": {
      "text/plain": [
       "[<html_dependency \"bootstrap@3.3.5\">]"
      ]
     },
     "metadata": {},
     "execution_count": 9
    }
   ],
   "metadata": {}
  },
  {
   "cell_type": "markdown",
   "source": [
    "The `.render()` method on any `tag` instance will report both the HTML string it represents as well as `htmlDependency()`s it, or any of it's children, requires."
   ],
   "metadata": {}
  },
  {
   "cell_type": "code",
   "execution_count": 10,
   "source": [
    "x = tag_list(html(\"<a><a/>\"), dep)\n",
    "x.get_dependencies()"
   ],
   "outputs": [
    {
     "output_type": "execute_result",
     "data": {
      "text/plain": [
       "[<html_dependency \"bootstrap@3.3.5\">]"
      ]
     },
     "metadata": {},
     "execution_count": 10
    }
   ],
   "metadata": {}
  }
 ],
 "metadata": {
  "interpreter": {
   "hash": "0ff4c9592a8da58b92bd66c28f5a281334fc48c65cc9d36de42032de70ba6f1e"
  },
  "kernelspec": {
   "display_name": "Python 3",
   "language": "python",
   "name": "python3"
  },
  "language_info": {
   "codemirror_mode": {
    "name": "ipython",
    "version": 3
   },
   "file_extension": ".py",
   "mimetype": "text/x-python",
   "name": "python",
   "nbconvert_exporter": "python",
   "pygments_lexer": "ipython3",
   "version": "3.8.8"
  }
 },
 "nbformat": 4,
 "nbformat_minor": 2
}